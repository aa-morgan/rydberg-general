{
 "cells": [
  {
   "cell_type": "code",
   "execution_count": 3,
   "metadata": {
    "collapsed": false
   },
   "outputs": [],
   "source": [
    "from __future__ import print_function, division\n",
    "import numpy as np\n",
    "import matplotlib\n",
    "import matplotlib.pyplot as plt\n",
    "from scipy.optimize import curve_fit\n",
    "%matplotlib inline\n",
    "\n",
    "import pandas as pd"
   ]
  },
  {
   "cell_type": "markdown",
   "metadata": {},
   "source": [
    "# Import data & initial guess"
   ]
  },
  {
   "cell_type": "code",
   "execution_count": 4,
   "metadata": {
    "collapsed": false
   },
   "outputs": [],
   "source": [
    "def create_filepaths(numbers, pre_path):\n",
    "    padded_numbers = []\n",
    "    file_ext = '.dat'\n",
    "    for n in numbers:\n",
    "        if n <= 9:\n",
    "            padded_numbers = np.append(padded_numbers, pre_path + '00' + str(n) + file_ext)\n",
    "        elif n <= 99:\n",
    "            padded_numbers = np.append(padded_numbers, pre_path + '0' + str(n) + file_ext)\n",
    "        else:\n",
    "            padded_numbers = np.append(padded_numbers, pre_path + str(n) + file_ext)\n",
    "    return padded_numbers"
   ]
  },
  {
   "cell_type": "code",
   "execution_count": 5,
   "metadata": {
    "collapsed": true
   },
   "outputs": [],
   "source": [
    "def decayingSinModel(time, freq, T_decay, amp, phase, offset):\n",
    "    # Linearly decaying sinusoidal function\n",
    "    return amp * np.exp(-time/T_decay) * np.sin(2*np.pi*( freq*time ) + np.radians(phase)) + offset"
   ]
  },
  {
   "cell_type": "code",
   "execution_count": 6,
   "metadata": {
    "collapsed": true
   },
   "outputs": [],
   "source": [
    "def ramsey_fit_guess_default():\n",
    "    freq_guess = 1 # MHz\n",
    "    T_decay_guess = 4 # us\n",
    "    amp_guess = 1\n",
    "    phase_guess = 220\n",
    "    offset_guess = -1.5\n",
    "    return [freq_guess, T_decay_guess, amp_guess, phase_guess, offset_guess]"
   ]
  },
  {
   "cell_type": "code",
   "execution_count": 20,
   "metadata": {
    "collapsed": false
   },
   "outputs": [],
   "source": [
    "# date = '290317'\n",
    "# file_numbers = [20,21,24,25,26]\n",
    "def ramsey_fit_test(date, file_numbers, pressures=[], guess=ramsey_fit_guess_default()):\n",
    "    file_path = \"C:\\data\\\\\" + date + \"\\\\SR\" + date + \"_\"\n",
    "    full_paths = create_filepaths(file_numbers, file_path)\n",
    "    if pressures == []: pressures = np.arange(1, len(full_paths)+1, 1)\n",
    "\n",
    "    matplotlib.rcParams['figure.figsize'] = (15.0, 4.0)\n",
    "    min_time, max_time = 0, 0\n",
    "    for i, path in enumerate(full_paths):\n",
    "        data = np.loadtxt(path)\n",
    "        time = data[:,1] * 10E6\n",
    "        min_time = np.min([min_time, np.min(time)])\n",
    "        max_time = np.max([max_time, np.max(time)])\n",
    "        p_g = data[:,4] * 10E9\n",
    "        plt.plot(time, p_g, alpha=0.5, label=str(pressures[i]))\n",
    "\n",
    "    timeSteps = np.linspace(min_time, max_time, 1000)\n",
    "\n",
    "    plt.plot(timeSteps, decayingSinModel(timeSteps, *guess), '--', lw=3, color=[1.0,0.2,0.2], label='Fit guess')\n",
    "    plt.xlabel('Time ($\\mu s$)')\n",
    "    plt.ylabel('Ground state probability, $P_g$ (arb. units)')\n",
    "    plt.grid()\n",
    "    plt.legend(title='Pressue (mbar)')\n",
    "\n",
    "# ramsey_fit_test(date, file_numbers, pressures)"
   ]
  },
  {
   "cell_type": "markdown",
   "metadata": {},
   "source": [
    "# Fit sinusoidal waveforms"
   ]
  },
  {
   "cell_type": "code",
   "execution_count": 21,
   "metadata": {
    "collapsed": false
   },
   "outputs": [],
   "source": [
    "def ramsey_fit(date, file_numbers, pressures=[], guess=ramsey_fit_guess_default(), eval_time=3.0):\n",
    "    file_path = \"C:\\data\\\\\" + date + \"\\\\SR\" + date + \"_\"\n",
    "    full_paths = create_filepaths(file_numbers, file_path)\n",
    "    \n",
    "    matplotlib.rcParams['figure.figsize'] = (15.0, 4.0)\n",
    "    colors = ['k','r','g','b','c','m','y']\n",
    "    params = ['Frequency', 'T decay', 'Amplitude', 'Initial phase', 'Offset']\n",
    "    if pressures == []: pressures = np.arange(1, len(full_paths)+1, 1)\n",
    "        \n",
    "    popts = []\n",
    "    perrs = []\n",
    "    df = pd.DataFrame(columns=['Pressure', *params, *[p + ' error' for p in params]])\n",
    "    min_time, max_time = 0, 0\n",
    "    for i, path in enumerate(full_paths):\n",
    "        data = np.loadtxt(path)\n",
    "        time = data[:,1] * 10E6\n",
    "        p_g = data[:,4] * 10E9\n",
    "        min_time = np.min([min_time, np.min(time)])\n",
    "        max_time = np.max([max_time, np.max(time)])\n",
    "\n",
    "        popt,pcov = curve_fit(decayingSinModel, time, p_g, p0=guess)\n",
    "        perr = np.sqrt(np.diag(pcov))\n",
    "        popts = np.concatenate((popts, popt), axis=0)\n",
    "        perrs = np.concatenate((perrs, perr), axis=0)\n",
    "\n",
    "        df.loc[i] = [pressures[i], *popt, *perr]\n",
    "        matplotlib.rcParams['figure.figsize'] = (15.0, 4.0)\n",
    "\n",
    "        timeSteps = np.linspace(min_time, max_time, 1000)\n",
    "        p_g_fit = decayingSinModel(timeSteps, *popt)\n",
    "        plt.plot(time, p_g, '-', lw=2, color=colors[np.mod(i, len(colors))], alpha=0.5, label=str(pressures[i]))\n",
    "        plt.plot(timeSteps, p_g_fit, '--', lw=2, color=colors[np.mod(i, len(colors))], alpha=1.0)\n",
    "\n",
    "    plt.xlabel('Time ($\\mu s$)')\n",
    "    plt.ylabel('Ground state probability, $P_g$ (arb. units)')\n",
    "    plt.title('$P_g$ fit')\n",
    "    plt.grid()\n",
    "    plt.legend(title='Pressure (mbar)')\n",
    "\n",
    "    popts = np.reshape(popts, [len(file_numbers), len(params)])\n",
    "    perrs = np.reshape(perrs, [len(file_numbers), len(params)])\n",
    "    ref_popt = popts[0]\n",
    "    diff_freq = popts[:,0] - ref_popt[0]\n",
    "    diff_init_phase = popts[:,3] - ref_popt[3]\n",
    "    diff_eval_phase = (360 * diff_freq * eval_time) #+ diff_init_phase # MHz * us\n",
    "    diff_phase = (360 * diff_freq)\n",
    "\n",
    "    plt.axvline(x=eval_time, color='r', linestyle='--')\n",
    "\n",
    "    df['Phase shift /t'] = diff_phase\n",
    "    df['Phase shift at T'] = diff_eval_phase\n",
    "    columns = ['Pressure', *list(np.array([[p, p + ' error'] for p in params]).flatten()), 'Phase shift /t', 'Phase shift at T']\n",
    "    return df[columns]\n",
    "    \n",
    "# df = ramsey_fit(date, file_numbers, pressures)\n",
    "# df"
   ]
  },
  {
   "cell_type": "code",
   "execution_count": 9,
   "metadata": {
    "collapsed": false
   },
   "outputs": [
    {
     "data": {
      "image/png": "[encoded data removed]",
      "text/plain": [
       "<matplotlib.figure.Figure at 0xb138be0>"
      ]
     },
     "metadata": {},
     "output_type": "display_data"
    }
   ],
   "source": [
    "def ramsey_plot_pressure_phase(df):\n",
    "    plt.plot(df['Pressure']*1E6, df['Phase shift /t'], 'o--')\n",
    "    plt.title('Phase shift vs. pressure')\n",
    "    plt.xlabel('Pressure, (mbar $\\\\times 10^{-6}$)')\n",
    "    plt.ylabel('Phase shift')\n",
    "    plt.xlim([0,7])\n",
    "    plt.ylim([0,40])\n",
    "    plt.grid()\n",
    "# ramsey_plot_pressure_phase(df)"
   ]
  },
  {
   "cell_type": "code",
   "execution_count": null,
   "metadata": {
    "collapsed": true
   },
   "outputs": [],
   "source": []
  }
 ],
 "metadata": {
  "kernelspec": {
   "display_name": "Python 3",
   "language": "python",
   "name": "python3"
  },
  "language_info": {
   "codemirror_mode": {
    "name": "ipython",
    "version": 3
   },
   "file_extension": ".py",
   "mimetype": "text/x-python",
   "name": "python",
   "nbconvert_exporter": "python",
   "pygments_lexer": "ipython3",
   "version": "3.6.0"
  }
 },
 "nbformat": 4,
 "nbformat_minor": 2
}
