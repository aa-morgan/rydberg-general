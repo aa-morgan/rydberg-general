{
 "cells": [
  {
   "cell_type": "markdown",
   "metadata": {},
   "source": [
    "# Calculating Rydberg atom transition frequencies"
   ]
  },
  {
   "cell_type": "markdown",
   "metadata": {},
   "source": [
    "The wavelength of the transition between the $n_1$th and $n_2$th levels is given by,\n",
    "\n",
    "\\begin{equation}\n",
    "    \\frac{1}{\\lambda} = R_{M} \\left( \\frac{1}{(n_1-\\delta_1)^2} - \\frac{1}{(n_2-\\delta_2)^2} \\right)\n",
    "\\end{equation}\n",
    "\n",
    "where $\\delta_x$ are the quantum defects, and $R_{M}$ is the reduced mass,\n",
    "\n",
    "\\begin{equation}\n",
    "    R_{M} = \\frac{R_{\\infty}}{1+\\frac{m_e}{M}}\n",
    "\\end{equation}\n",
    "\n",
    "where $R_{\\infty}$ is the Rydberg constant with an infinite mass nucleus, $m_e$ is the electron mass, and $M$ is the mass of the nucleus. $R_{\\infty}$ is given by,\n",
    "\n",
    "\\begin{equation}\n",
    "    R_{\\infty} = \\frac{m_e e^4}{8 \\epsilon_0^2 h^3 c} = 1.0973731568508 \\times 10^7 m^{-1}\n",
    "\\end{equation} \n",
    "\n",
    "The frequency of the transition is then,\n",
    "\n",
    "\\begin{equation}\n",
    "    f = \\frac{c}{\\lambda}\n",
    "\\end{equation}\n",
    "\n",
    "where $c$ is the speed of light."
   ]
  },
  {
   "cell_type": "code",
   "execution_count": 1,
   "metadata": {
    "collapsed": true
   },
   "outputs": [],
   "source": [
    "import numpy as np\n",
    "import matplotlib.pyplot as plt\n",
    "\n",
    "%matplotlib inline"
   ]
  },
  {
   "cell_type": "code",
   "execution_count": 2,
   "metadata": {
    "collapsed": true
   },
   "outputs": [],
   "source": [
    "class RydbergHelium:\n",
    "    def __init__(self):\n",
    "        self.z = 2\n",
    "        self.r_inf = 1.0973731568508 * 10**7\n",
    "        self.c = 2.99792458 * 10**8\n",
    "        self.h = 6.62607004 * 10**-34\n",
    "        self.e = 1.60217662 * 10**-19\n",
    "        self.m_e = 9.10938356 * 10**-31\n",
    "        self.m_p = 1.6726219 * 10**-27\n",
    "    \n",
    "    def energy_level(self, n, l):\n",
    "        r_m = self.r_inf / (1 + (self.m_e/(2*self.z*self.m_p)))\n",
    "        defect = self.quantum_defect(n, l)\n",
    "        wavelength = 1 / ( r_m * ( 1/float(n-defect)**2 ) )\n",
    "        return self.h * self.c / wavelength\n",
    "    \n",
    "    def energy_transition(self, n_from, n_to, l_from=6, l_to=6):\n",
    "        return np.abs(self.energy_level(n_from, l_from) - self.energy_level(n_to, l_to))\n",
    "    \n",
    "    def quantum_defect(self, n, l):\n",
    "        # Routine to calculate the quantum defects of the triplet Rydberg states of helium\n",
    "        # From Martin, Phys. Rev. A, vol. 36, pp. 3575-3589 (1987)\n",
    "\n",
    "        #    s            p            d           f           g           h           +\n",
    "        a = [0.29665486,  0.06835886,  0.00289043, 0.00043924, 0.00012568, 0.00004756, 0]\n",
    "        b = [0.03824614, -0.01870111, -0.0064691, -0.0017850, -0.0008992, -0.000552  , 0]\n",
    "        c = [0.0082574,  -0.0117730,   0.001362,   0.000465,   0.0007,     0.00112   , 0]\n",
    "        d = [0.000359,   -0.008540,   -0.00325,    0,          0,          0         , 0]\n",
    "\n",
    "        if l <= 5:\n",
    "            idx = l;\n",
    "        else:\n",
    "            idx = 6\n",
    "            \n",
    "        m = n - a[idx];\n",
    "        return a[idx] + b[idx]*m**(-2) + c[idx]*m**(-4) + d[idx]*m**(-6);\n",
    "    \n",
    "    def energy_ionisation(self):\n",
    "        # E/hc = 1/lambda (cm^-1)\n",
    "        return (self.h * self.c) * (198310.6663720 * 100)\n",
    "    \n",
    "    def energy_1s3p(self):\n",
    "        # E/hc = 1/lambda (cm^-1)\n",
    "        return (self.h * self.c) * (185564.561920 * 100) # J = 2\n",
    "    \n",
    "    def energy_1s2s(self):\n",
    "        # E/hc = 1/lambda (cm^-1)\n",
    "        return (self.h * self.c) * (159855.9743297 * 100)\n",
    "    \n",
    "    def energy_1s3p_nl(self, n, l):\n",
    "        return (self.energy_ionisation() - self.energy_1s3p()) - self.energy_level(n, l)\n",
    "    \n",
    "    def frequency(self, E):\n",
    "        return E / self.h\n",
    "    \n",
    "    def wavelength(self, E):\n",
    "        return self.h * self.c / E"
   ]
  },
  {
   "cell_type": "code",
   "execution_count": 3,
   "metadata": {
    "collapsed": false
   },
   "outputs": [],
   "source": [
    "atom = RydbergHelium()\n",
    "abs_55s = atom.wavelength(atom.energy_1s3p_nl(55, 0)) * 10**9\n",
    "ref_55s = 786.8166\n",
    "offset = ref_55s - abs_55s"
   ]
  },
  {
   "cell_type": "code",
   "execution_count": 4,
   "metadata": {
    "collapsed": false
   },
   "outputs": [
    {
     "data": {
      "text/plain": [
       "785.945712823385"
      ]
     },
     "execution_count": 4,
     "metadata": {},
     "output_type": "execute_result"
    }
   ],
   "source": [
    "atom.wavelength(atom.energy_1s3p_nl(70, 0)) * 10**9 + offset"
   ]
  },
  {
   "cell_type": "code",
   "execution_count": 5,
   "metadata": {
    "collapsed": false
   },
   "outputs": [
    {
     "data": {
      "text/plain": [
       "37.241744902931167"
      ]
     },
     "execution_count": 5,
     "metadata": {},
     "output_type": "execute_result"
    }
   ],
   "source": [
    "atom.frequency(atom.energy_transition(70,72,0,0)) / 10**9"
   ]
  },
  {
   "cell_type": "code",
   "execution_count": null,
   "metadata": {
    "collapsed": true
   },
   "outputs": [],
   "source": []
  }
 ],
 "metadata": {
  "anaconda-cloud": {},
  "kernelspec": {
   "display_name": "Python 3",
   "language": "python",
   "name": "python3"
  },
  "language_info": {
   "codemirror_mode": {
    "name": "ipython",
    "version": 3
   },
   "file_extension": ".py",
   "mimetype": "text/x-python",
   "name": "python",
   "nbconvert_exporter": "python",
   "pygments_lexer": "ipython3",
   "version": "3.6.0"
  }
 },
 "nbformat": 4,
 "nbformat_minor": 1
}
